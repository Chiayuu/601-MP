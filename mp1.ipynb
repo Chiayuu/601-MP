{
 "cells": [
  {
   "cell_type": "markdown",
   "metadata": {},
   "source": [
    "# Logic, Sets, and Functions\n",
    "\n",
    "## Activity 1\n",
    "\n",
    "In this activity, we review and code five ways to form new statements from existing ones.\n",
    "They correspond to the English expressions: and; or; not; if, then; if and only if.\n",
    "In the exercise below, $P$ and $Q$ represent two abstract statements.\n",
    "\n",
    "### Deliverables\n",
    "\n",
    "Implement Python version of the **conditional** and **biconditional** functions."
   ]
  },
  {
   "cell_type": "code",
   "execution_count": 8,
   "metadata": {},
   "outputs": [],
   "source": [
    "import math"
   ]
  },
  {
   "cell_type": "markdown",
   "metadata": {},
   "source": [
    "### Conjunction\n",
    "\n",
    "A logical **conjunction** is an operation on two logical propositions that produces a value of true if both statements are true, and is false otherwise.\n",
    "The conjunction (or logical AND) of $P$ and $Q$ is denoted by $P \\wedge Q$"
   ]
  },
  {
   "cell_type": "code",
   "execution_count": 9,
   "metadata": {},
   "outputs": [],
   "source": [
    "def myConjunction(P,Q):\n",
    "    return P and Q"
   ]
  },
  {
   "cell_type": "markdown",
   "metadata": {},
   "source": [
    "### Disjunction\n",
    "\n",
    "Similarly, a logical **disjunction** is an operator on two logical propositions that is true if either statement is true or both are true, and is false otherwise.\n",
    "The disjunction (or logical OR) of $P$ and $Q$ is denoted by $P \\vee Q$."
   ]
  },
  {
   "cell_type": "code",
   "execution_count": 10,
   "metadata": {},
   "outputs": [],
   "source": [
    "def myDisjunction(P,Q):\n",
    "    return P or Q"
   ]
  },
  {
   "cell_type": "markdown",
   "metadata": {},
   "source": [
    "### Negation\n",
    "\n",
    "The **negation** is an operator on the logical value of a proposition that sends true to false and false to true.\n",
    "The negation (or logical NOT) of $P$ is denoted by $\\neg P$."
   ]
  },
  {
   "cell_type": "code",
   "execution_count": 11,
   "metadata": {},
   "outputs": [],
   "source": [
    "def myNegation(P):\n",
    "    return not P"
   ]
  },
  {
   "cell_type": "markdown",
   "metadata": {},
   "source": [
    "### Conditional Connective\n",
    "\n",
    "The next method of combining mathematical statements is slightly more subtle than the preceding ones.\n",
    "The **conditional connective** $P \\rightarrow Q$ is a logical statement that is read *if $P$ then $Q$*.\n",
    "In this statement, $P$ is called the antecedent and $Q$ is called the consequent."
   ]
  },
  {
   "cell_type": "code",
   "execution_count": 12,
   "metadata": {},
   "outputs": [],
   "source": [
    "def myConditional(P,Q):\n",
    "    if P == True and Q == False :\n",
    "        return  False\n",
    "    else :\n",
    "        return True"
   ]
  },
  {
   "cell_type": "markdown",
   "metadata": {},
   "source": [
    "### Biconditional\n",
    "\n",
    "The logical **biconditional** is an operator connecting two logical propositions that is true if the statements are both true or both false, and it is false otherwise.\n",
    "The biconditional from $P$ to $Q$ is denoted by $P \\leftrightarrow Q$."
   ]
  },
  {
   "cell_type": "code",
   "execution_count": 13,
   "metadata": {},
   "outputs": [],
   "source": [
    "def myBiconditional(P,Q):\n",
    "\n",
    "    if P==Q:\n",
    "        return True\n",
    "    else :\n",
    "        return False"
   ]
  },
  {
   "cell_type": "markdown",
   "metadata": {},
   "source": [
    "### Testing\n",
    "\n",
    "You can test your implementation of the conditional and biconditional using a truth table.\n",
    "You will find a rudimentary example below."
   ]
  },
  {
   "cell_type": "code",
   "execution_count": 14,
   "metadata": {},
   "outputs": [
    {
     "name": "stdout",
     "output_type": "stream",
     "text": [
      "P     | Q     | Conjunction (P,Q)\n",
      "True  | True  |  True \n",
      "True  | False |  False\n",
      "False | True  |  False\n",
      "False | False |  False\n"
     ]
    }
   ],
   "source": [
    "print(\"P     | Q     | Conjunction (P,Q)\")\n",
    "for P in (True, False):\n",
    "    for Q in (True, False):\n",
    "        print(str(P).ljust(5), \"|\", str(Q).ljust(5), \"| \",str(myConjunction(P,Q)).ljust(5))"
   ]
  },
  {
   "cell_type": "markdown",
   "metadata": {},
   "source": [
    "## Activity 2\n",
    "\n",
    "Code each of the following statement using the five functions you have already implemented.\n",
    "1. $P \\wedge \\neg Q$\n",
    "2. $(P \\vee Q) \\wedge \\neg P$\n",
    "3. $P \\vee (\\neg Q \\vee R)$\n",
    "4. $(P \\vee Q) \\wedge (P \\vee R)$\n",
    "5. $(P \\wedge R) \\vee \\neg (Q \\wedge S)$"
   ]
  },
  {
   "cell_type": "code",
   "execution_count": 15,
   "metadata": {},
   "outputs": [],
   "source": [
    "def myProblem1(LogicVector):\n",
    "    P = LogicVector[0]\n",
    "    Q = LogicVector[1]\n",
    "    return myConjunction(P, myNegation(Q))\n",
    "\n",
    "def myProblem2(LogicVector):\n",
    "    P = LogicVector[0]\n",
    "    Q = LogicVector[1]\n",
    "    res = str(myConjunction(myDisjunction(P,Q),myNegation(P)))\n",
    "    #print (str(P),\"|\",str(Q),\"|\",str(res))\n",
    "    return res\n",
    "\n",
    "def myProblem3(LogicVector):\n",
    "    P = LogicVector[0]\n",
    "    Q = LogicVector[1]\n",
    "    R = LogicVector[2]\n",
    "    res = str(myDisjunction(P,myDisjunction(myNegation(Q),R)))\n",
    "    #print (str(P),\"|\",str(Q),\"|\",str(R),\"|\",str(res))\n",
    "    return res\n",
    "\n",
    "def myProblem4(LogicVector):\n",
    "    P = LogicVector[0]\n",
    "    Q = LogicVector[1]\n",
    "    R = LogicVector[2]\n",
    "    res = str(myConjunction(myDisjunction(P,Q),myDisjunction(P,R)))\n",
    "    #print (str(P),\"|\",str(Q),\"|\",str(R),\"|\",str(res))\n",
    "    return res\n",
    "\n",
    "def myProblem5(LogicVector):\n",
    "    P = LogicVector[0]\n",
    "    Q = LogicVector[1]\n",
    "    R = LogicVector[2]\n",
    "    S = LogicVector[3]\n",
    "    res = str(myDisjunction(myConjunction(P,R),myNegation(myConjunction(Q,S))))\n",
    "    #print (str(P),\"|\",str(Q),\"|\",str(R),\"|\",str(S),\"|\",str(res))\n",
    "    return res"
   ]
  },
  {
   "cell_type": "markdown",
   "metadata": {},
   "source": [
    "### Deliverables\n",
    "\n",
    "User submissions are evaluated by comparing their truth table in CSV format to the ground truth solution.\n",
    "Documents to be submitted are as follows.\n",
    "\n",
    "__GitHub__: Every student should commit and push files.\n",
    " 1. A truth table `table.csv` generated using the code below.\n",
    " 2. Jupyter notebook code `challenge.ipynb`."
   ]
  },
  {
   "cell_type": "code",
   "execution_count": 16,
   "metadata": {},
   "outputs": [
    {
     "name": "stdout",
     "output_type": "stream",
     "text": [
      "        P      Q      R      S Problem1 Problem2 Problem3 Problem4 Problem5\n",
      "0   False  False  False  False    False    False     True    False     True\n",
      "1   False  False  False   True    False    False     True    False     True\n",
      "2   False  False   True  False    False    False     True    False     True\n",
      "3   False  False   True   True    False    False     True    False     True\n",
      "4   False   True  False  False    False     True    False    False     True\n",
      "5   False   True  False   True    False     True    False    False    False\n",
      "6   False   True   True  False    False     True     True     True     True\n",
      "7   False   True   True   True    False     True     True     True    False\n",
      "8    True  False  False  False     True    False     True     True     True\n",
      "9    True  False  False   True     True    False     True     True     True\n",
      "10   True  False   True  False     True    False     True     True     True\n",
      "11   True  False   True   True     True    False     True     True     True\n",
      "12   True   True  False  False    False    False     True     True     True\n",
      "13   True   True  False   True    False    False     True     True    False\n",
      "14   True   True   True  False    False    False     True     True     True\n",
      "15   True   True   True   True    False    False     True     True     True\n"
     ]
    }
   ],
   "source": [
    "import numpy as np\n",
    "import pandas as pd\n",
    "from itertools import product\n",
    "\n",
    "LogicVectors = [list(boolvalue) for boolvalue in product([False,True], repeat=4)]\n",
    "truthtable = np.array(LogicVectors)\n",
    "\n",
    "for myProblem in [myProblem1, myProblem2, myProblem3, myProblem4, myProblem5]:\n",
    "    ProlemTruth = np.array([myProblem(LogicVector) for LogicVector in LogicVectors])\n",
    "    truthtable=np.column_stack((truthtable,ProlemTruth))\n",
    "\n",
    "header = ['P','Q','R','S','Problem1','Problem2','Problem3','Problem4','Problem5']\n",
    "table_df = pd.DataFrame(data=truthtable.astype(str), index=None, columns=header)\n",
    "print(table_df)\n",
    "\n",
    "table_df.to_csv('table.csv', index=False)"
   ]
  },
  {
   "cell_type": "markdown",
   "metadata": {},
   "source": [
    "## Activity 3\n",
    "\n",
    "Verify the the following statements are equivalent by coding the corresponding biconditional using the five functions you have already implemented and showing that the resulting truth tables can be interpretted as tautologies.\n",
    "1. $P \\rightarrow Q \\Leftrightarrow \\neg P \\vee Q$\n",
    "2. $P \\rightarrow Q \\Leftrightarrow \\neg Q \\rightarrow \\neg P$\n",
    "3. $P \\leftrightarrow Q \\Leftrightarrow (P \\rightarrow Q) \\wedge (Q \\rightarrow P)$"
   ]
  },
  {
   "cell_type": "code",
   "execution_count": 17,
   "metadata": {},
   "outputs": [
    {
     "name": "stdout",
     "output_type": "stream",
     "text": [
      "       P      Q Problem1 Problem2 Problem3\n",
      "0  False  False     True     True     True\n",
      "1  False   True     True     True     True\n",
      "2   True  False     True     True     True\n",
      "3   True   True     True     True     True\n",
      "problem 1 is tautology\n",
      "problem 2 is tautology\n",
      "problem 3 is tautology\n"
     ]
    }
   ],
   "source": [
    "#Problem1\n",
    "#P-->Q <-> ~P v Q\n",
    "def Problem1(LogicVector):\n",
    "    P = LogicVector[0]\n",
    "    Q = LogicVector[1]\n",
    "    res_left = myConditional(P,Q)\n",
    "    res_right = myDisjunction(myNegation(P),Q)  \n",
    "    if res_left != res_right:\n",
    "        return False\n",
    "    else :\n",
    "        return True\n",
    "#Problem2\n",
    "#P-->Q <-> ~Q->~P\n",
    "def Problem2(LogicVector):\n",
    "    P = LogicVector[0]\n",
    "    Q = LogicVector[1]\n",
    "    res_left = myConditional(P,Q)\n",
    "    res_right = myConditional(myNegation(Q),myNegation(P))  \n",
    "    if res_left != res_right:\n",
    "        return False\n",
    "    else :\n",
    "        return True\n",
    "\n",
    "def Problem3(LogicVector):\n",
    "    P = LogicVector[0]\n",
    "    Q = LogicVector[1]\n",
    "    res_left = myBiconditional(P,Q)\n",
    "    res_right = myConjunction(myConditional(P,Q),myConditional(Q,P))  \n",
    "    if res_left != res_right:\n",
    "        return False\n",
    "    else :\n",
    "        return True\n",
    "    \n",
    "    \n",
    "LogicVectors = [list(boolvalue) for boolvalue in product([False,True], repeat=2)]\n",
    "truthtable = np.array(LogicVectors)\n",
    "\n",
    "for Problem in [Problem1,Problem2,Problem3]:\n",
    "    ProlemTruth = np.array([Problem(LogicVector) for LogicVector in LogicVectors])\n",
    "    truthtable=np.column_stack((truthtable,ProlemTruth))\n",
    "\n",
    "header = ['P','Q','Problem1','Problem2','Problem3']\n",
    "table_df1 = pd.DataFrame(data=truthtable.astype(str), index=None, columns=header)\n",
    "print(table_df1)\n",
    "\n",
    "table_df.to_csv('table.csv', index=False)\n",
    "\n",
    "#find out if it is tautology or not\n",
    "a=0\n",
    "c=0\n",
    "d=0\n",
    "for b in ['Problem1','Problem2','Problem3']:\n",
    "    for a in range (4):\n",
    "        dep = table_df1.at[a,'Problem1']\n",
    "        if dep == \"False\":\n",
    "            c = 1\n",
    "    if c == 0:\n",
    "        d=d+1\n",
    "        print(\"problem\",d,\"is tautology\")\n",
    "    else:\n",
    "        d=d+1\n",
    "        print(\"problem1\",d,\" not tautology\")\n",
    "\n"
   ]
  }
 ],
 "metadata": {
  "kernelspec": {
   "display_name": "Python 3 (ipykernel)",
   "language": "python",
   "name": "python3"
  },
  "language_info": {
   "codemirror_mode": {
    "name": "ipython",
    "version": 3
   },
   "file_extension": ".py",
   "mimetype": "text/x-python",
   "name": "python",
   "nbconvert_exporter": "python",
   "pygments_lexer": "ipython3",
   "version": "3.9.7"
  }
 },
 "nbformat": 4,
 "nbformat_minor": 4
}
